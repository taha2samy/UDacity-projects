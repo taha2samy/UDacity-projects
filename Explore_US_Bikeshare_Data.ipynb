{
  "nbformat": 4,
  "nbformat_minor": 0,
  "metadata": {
    "colab": {
      "name": "Copy of project1.ipynb",
      "provenance": [],
      "collapsed_sections": [],
      "authorship_tag": "ABX9TyNfmOdwBmfOzn7T/uPGZZ15",
      "include_colab_link": true
    },
    "kernelspec": {
      "display_name": "Python 3",
      "name": "python3"
    },
    "language_info": {
      "name": "python"
    }
  },
  "cells": [
    {
      "cell_type": "markdown",
      "metadata": {
        "id": "view-in-github",
        "colab_type": "text"
      },
      "source": [
        "<a href=\"https://colab.research.google.com/github/taha2samy/UDacity-projects/blob/main/Explore_US_Bikeshare_Data.ipynb\" target=\"_parent\"><img src=\"https://colab.research.google.com/assets/colab-badge.svg\" alt=\"Open In Colab\"/></a>"
      ]
    },
    {
      "cell_type": "code",
      "metadata": {
        "id": "UIRz013B-zUd"
      },
      "source": [
        "import time\n",
        "import pandas as pd\n",
        "import numpy as np"
      ],
      "execution_count": null,
      "outputs": []
    },
    {
      "cell_type": "code",
      "metadata": {
        "id": "nEWjeW_teNGH"
      },
      "source": [
        "\n",
        "CITY_DATA = { 'chicago': '',\n",
        "              'new york city': '/content/sample_data/new_york_city.csv',\n",
        "              'washington': '/content/sample_data/washington.csv' }"
      ],
      "execution_count": null,
      "outputs": []
    },
    {
      "cell_type": "code",
      "metadata": {
        "id": "Mf_CLy1OeVk8"
      },
      "source": [
        "def get_filters():\n",
        "    \"\"\"\n",
        "    Asks user to specify a city, month, and day to analyze.\n",
        "\n",
        "    Returns:\n",
        "        (str) city - name of the city to analyze\n",
        "        (str) month - name of the month to filter by, or \"all\" to apply no month filter\n",
        "        (str) day - name of the day of week to filter by, or \"all\" to apply no day filter\n",
        "    \"\"\"\n",
        "    print('Hello! Let\\'s explore some US bikeshare data!')\n",
        "    def get_data_from_input(message,chooses,break_it=\"cancel\"):\n",
        "        choose = None\n",
        "        while choose not in [x.lower() for x in chooses]:\n",
        "          choose = input(f\"{message} {chooses}\").lower()\n",
        "          if break_it.lower()==choose:\n",
        "            break\n",
        "        return choose\n",
        "    def get_the_input_user(message,chooses):\n",
        "      while True:\n",
        "        choose = eval(input(message))\n",
        "        if type(choose)==str and choose.lower() in [s.lower() for s in chooses]:\n",
        "          break\n",
        "        if type(choose)==list:\n",
        "          stop=True\n",
        "          for s in choose:\n",
        "            if s.lower() not in [x.lower() for x in chooses]:\n",
        "              stop=False\n",
        "        if stop==True:\n",
        "          break\n",
        "      return choose\n",
        "      \n",
        "\n",
        "    # get city \n",
        "    city=get_data_from_input(\"please choose one city from to cancel write cancel\",list(CITY_DATA.keys()))\n",
        "    # get months name#######################################################################\n",
        "    months= [\"all\"]\n",
        "    for x in range(1,7):\n",
        "      x=time.strftime(\"%B\",(0, x, 0, 0, 0, 0, 0, 0, 0))\n",
        "      months.append(x)\n",
        "    month=get_the_input_user(f\"please choose one month from ex: \\\"june\\\"  \\n you can use range as ex: [\\\"june\\\",\\\"may\\\"] \\n choose from {months} \\n choose:\",months) \n",
        "    # get months name ###############################################################################\n",
        "    days= [\"all\"]\n",
        "    for x in range(1,8):\n",
        "      x=time.strftime(\"%A\",(0, 0,0, 0, 0, 0, x, 0, 0))\n",
        "      days.append(x)\n",
        "    day=get_the_input_user(f\"please choose one day from ex: \\\"sunday\\\"  \\n  or you can use range as ex: [\\\"sunday\\\",\\\"saturday\\\"] \\n choose from {days} \\n choose:\",days)\n",
        "    ###############################################################################################\n",
        "    print('-'*40)\n",
        "    return city, month, day\n"
      ],
      "execution_count": null,
      "outputs": []
    },
    {
      "cell_type": "code",
      "metadata": {
        "id": "k8vHl8Kfgp5H"
      },
      "source": [
        "def load_data(city, month, day):\n",
        "    \"\"\"\n",
        "    Loads data for the specified city and filters by month and day if applicable.\n",
        "\n",
        "    Args:\n",
        "        (str) city - name of the city to analyze\n",
        "        (str) month - name of the month to filter by, or \"all\" to apply no month filter\n",
        "        (str) day - name of the day of week to filter by, or \"all\" to apply no day filter\n",
        "    Returns:\n",
        "        df - Pandas DataFrame containing city data filtered by month and day\n",
        "    \"\"\"\n",
        "    # TO DO: get user input for city (chicago, new york city, washington). HINT: Use a while loop to handle invalid inputs\n",
        "   \n",
        "     #(1) get data\n",
        "    ###################################################\n",
        "    df = pd.read_csv(CITY_DATA[city.lower()])\n",
        "    ##############################\n",
        "        # (2) perapera data\n",
        "    ###############################################################\n",
        "    df[\"Start Time\"]=pd.to_datetime(df[\"Start Time\"])\n",
        "    df[\"month\"]=df[\"Start Time\"].dt.strftime(\"%B\") # get month and use name of months\n",
        "    df[\"day\"]=df[\"Start Time\"].dt.strftime(\"%A\")# get day and use name of days\n",
        "    df[\"hour\"]=pd.to_numeric(df[\"Start Time\"].dt.strftime(\"%H\"),downcast=\"integer\")# get day and use name of hour\n",
        "    ###########################\n",
        "    # TO DO: get user input for month (all, january, february, ... , june)\n",
        "    \n",
        "    if type(month)==str and month.lower() != \"all\":\n",
        "      df=df[(df[\"month\"] == month.title())]\n",
        "    elif type(month) == list:\n",
        "      format=\"df[\"\n",
        "      for x in month:\n",
        "        format+=\"(df[\\\"month\\\"]==\"\n",
        "        format +=\"\\\"\"\n",
        "        format+=x.title()\n",
        "        format +=\"\\\"\"\n",
        "        format+=\")\"\n",
        "        if x != month[-1]:\n",
        "          format+=\" | \"\n",
        "      format+=\"]\"\n",
        "      df=eval(f\"{format}\")\n",
        "    # TO DO: get user input for day of week (all, monday, tuesday, ... sunday)\n",
        "    if  type(day)==str and day.lower() != \"all\":\n",
        "      df=df[df[\"day\"]==day.title()]\n",
        "    elif type(day) == list:\n",
        "      format=\"df[\"\n",
        "      for x in day:\n",
        "        format+=\"(df[\\\"day\\\"]==\"\n",
        "        format +=\"\\\"\"\n",
        "        format+=x.title()\n",
        "        format +=\"\\\"\"\n",
        "        format+=\")\"\n",
        "        if x != day[-1]:\n",
        "          format+=\" | \"\n",
        "      format+=\"]\"\n",
        "      df=eval(f\"{format}\")\n",
        "    return df\n"
      ],
      "execution_count": null,
      "outputs": []
    },
    {
      "cell_type": "code",
      "metadata": {
        "id": "Cp_eZ34crul9"
      },
      "source": [
        "def time_stats(df):\n",
        "    \"\"\"Displays statistics on the most frequent times of travel.\"\"\"\n",
        "    print('\\nCalculating The Most Frequent Times of Travel...\\n')\n",
        "    start_time = time.time()\n",
        "    # TO DO: display the most common month:\n",
        "    common_month =df[\"month\"].value_counts().head(1).index[0]\n",
        "    print(f\"the most common month {common_month}\")\n",
        "    # TO DO: display the most common day of week\n",
        "    common_day = df[\"day\"].value_counts().head(1).index[0]\n",
        "    print(f\"the most common day {common_day}\")\n",
        "    # TO DO: display the most common start hour\n",
        "    common_hour =df[\"hour\"].value_counts().head(1).index[0]\n",
        "    print(f\"the most hour day {common_hour}\")\n",
        "\n",
        "\n",
        "    print(\"\\nThis took %s seconds.\" % (time.time() - start_time))\n",
        "    print('-'*40)\n",
        "    "
      ],
      "execution_count": null,
      "outputs": []
    },
    {
      "cell_type": "code",
      "metadata": {
        "id": "vynY1XGMZj2T"
      },
      "source": [
        "\n",
        "def station_stats(df):\n",
        "    \"\"\"Displays statistics on the most popular stations and trip.\"\"\"\n",
        "    print('\\nCalculating The Most Popular Stations and Trip...\\n')\n",
        "    start_time = time.time()\n",
        "    # TO DO: display most commonly used start station\n",
        "    common_start_station = df[\"Start Station\"].mode()[0]\n",
        "    print(f\"most commonly used start station {common_start_station}\")\n",
        "    # TO DO: display most commonly used end station\n",
        "    common_end_station = df[\"End Station\"].mode()[0]\n",
        "    print(f\"most commonly used end station {common_end_station}\")\n",
        "    # TO DO: display most frequent combination of start station and end station trip\n",
        "    s_e_staion = df[[\"End Station\",\"Start Station\"]].value_counts().head(1).index\n",
        "    print(f\"most frequent combination of start station ({s_e_staion[0][0]}) and end station ({s_e_staion[0][1]})\")\n",
        "    print(\"\\nThis took %s seconds.\" % (time.time() - start_time))\n",
        "    print('-'*40)\n",
        "\n"
      ],
      "execution_count": null,
      "outputs": []
    },
    {
      "cell_type": "code",
      "metadata": {
        "id": "2oTQHF1CPL6i"
      },
      "source": [
        "def trip_duration_stats(df):\n",
        "    \"\"\"Displays statistics on the total and average trip duration.\"\"\"\n",
        "\n",
        "    print('\\nCalculating Trip Duration...\\n')\n",
        "    start_time = time.time()\n",
        "\n",
        "    # TO DO: display total travel time\n",
        "    total_travel_time =df[\"Trip Duration\"].sum()\n",
        "    print(f\"total travel time {total_travel_time}\")\n",
        "    # TO DO: display mean travel time\n",
        "    mean_travel_time =df[\"Trip Duration\"].mean()\n",
        "    print(f\"mean travel time {mean_travel_time}\")\n",
        "\n",
        "    print(\"\\nThis took %s seconds.\" % (time.time() - start_time))\n",
        "    print('-'*40)\n"
      ],
      "execution_count": null,
      "outputs": []
    },
    {
      "cell_type": "code",
      "metadata": {
        "id": "v-CQ9wJUUUNn"
      },
      "source": [
        "def user_stats(df):\n",
        "    \"\"\"Displays statistics on bikeshare users.\"\"\"\n",
        "\n",
        "    print('\\nCalculating User Stats...\\n')\n",
        "    start_time = time.time()\n",
        "\n",
        "    # TO DO: Display counts of user types\n",
        "    for x in dict(df[\"User Type\"].value_counts()).items():\n",
        "      print(f\"Users {x[0]} : {x[1]}\") \n",
        "    try:\n",
        "      # TO DO: Display counts of gender\n",
        "      for x in dict(df[\"Gender\"].value_counts()).items():\n",
        "        print(f\"Users {x[0]} : {x[1]}\") \n",
        "    except:\n",
        "      print(\"there is no Gender\")\n",
        "\n",
        "\n",
        "    \n",
        "    # TO DO: Display earliest, most recent, and most common year of birth\n",
        "    try:\n",
        "      most_common_year = df[\"Birth Year\"].mode()[0]\n",
        "      print(f\"most common year of birthday {most_common_year[0]}\")\n",
        "    except:\n",
        "      print(\"there is no birthday\")\n",
        "    print(\"\\nThis took %s seconds.\" % (time.time() - start_time))\n",
        "    print('-'*40)"
      ],
      "execution_count": null,
      "outputs": []
    },
    {
      "cell_type": "code",
      "metadata": {
        "id": "ArT1Dou1ASRi"
      },
      "source": [
        "def show_and_get_data(df):\n",
        "  while True:\n",
        "    message=\"1 - do you want to show some specific rows and columns \\n \\\n",
        "             2 - exit\"\n",
        "    response = eval(input(message+\"\\n\"))\n",
        "    if response == 1:\n",
        "      while True:\n",
        "        try:\n",
        "          instrucations = \" to entre range of rows or columns like [1] or [1,2,3,4,5] or \\n [*rage(1,10,1)]=[1,2,3,4,5,6,7,8,9,10] range[start,end,step] and \\n columns but column we should choose indexes \\n \"\n",
        "          instrucations+=f\"\\n the range of rows from 0 to {df.shape[0]} \\n\"\n",
        "          instrucations+=\"\\n\"\n",
        "          instrucations+=\" the range of columns as show in dict\"         \n",
        "          instrucations+=str({x:y for x,y in enumerate(df.columns)})\n",
        "          instrucations+=\"\\n\"\n",
        "          instrucations+=\"if you want to stop write in rows string or columns\"\n",
        "          print(instrucations)\n",
        "          range_of_rows = eval(input(\"rows : \"))\n",
        "          range_of_columns = eval(input(\"columns : \"))\n",
        "          if (type(range_of_rows)==str) or (type(range_of_columns)==str):\n",
        "            break\n",
        "          print(df.iloc[range_of_rows,range_of_columns])\n",
        "          break\n",
        "        except Exception as s:\n",
        "          print(\"you have error : \",s)\n",
        "    elif response == 2:\n",
        "      break"
      ],
      "execution_count": null,
      "outputs": []
    },
    {
      "cell_type": "code",
      "metadata": {
        "colab": {
          "base_uri": "https://localhost:8080/"
        },
        "id": "kQ-0Ph_73BAm",
        "outputId": "a857b2d0-a72e-4b0e-ff57-0875c8c110f5"
      },
      "source": [
        "def main():\n",
        "    while True:\n",
        "      city, month, day = get_filters()\n",
        "      df = load_data(city, month, day)\n",
        "      print(df.shape)\n",
        "      time_stats(df)\n",
        "      station_stats(df)\n",
        "      trip_duration_stats(df)\n",
        "      user_stats(df)\n",
        "      show_and_get_data(df)\n",
        "      restart = input('\\nWould you like to restart? Enter yes or no.\\n')\n",
        "      if restart.lower() != 'yes':\n",
        "        break\n",
        "\n",
        "if __name__ == \"__main__\":\n",
        "\tmain()\n"
      ],
      "execution_count": null,
      "outputs": [
        {
          "name": "stdout",
          "output_type": "stream",
          "text": [
            "(300000, 10)\n",
            "\n",
            "Calculating The Most Frequent Times of Travel...\n",
            "\n",
            "the most common month June\n",
            "the most common day Wednesday\n",
            "the most hour day 8\n",
            "\n",
            "This took 0.0872507095336914 seconds.\n",
            "----------------------------------------\n",
            "\n",
            "Calculating The Most Popular Stations and Trip...\n",
            "\n",
            "most commonly used start station Columbus Circle / Union Station\n",
            "most commonly used end station Columbus Circle / Union Station\n",
            "most frequent combination of start station (Jefferson Dr & 14th St SW) and end station (Jefferson Dr & 14th St SW)\n",
            "\n",
            "This took 0.1747574806213379 seconds.\n",
            "----------------------------------------\n",
            "\n",
            "Calculating Trip Duration...\n",
            "\n",
            "total travel time 371183985.484\n",
            "mean travel time 1237.2799516133446\n",
            "\n",
            "This took 0.0026350021362304688 seconds.\n",
            "----------------------------------------\n",
            "\n",
            "Calculating User Stats...\n",
            "\n",
            "Users Subscriber : 220786\n",
            "Users Customer : 79214\n",
            "there is no Gender\n",
            "there is no birthday\n",
            "\n",
            "This took 0.031036853790283203 seconds.\n",
            "----------------------------------------\n",
            "1 - do you want to show some specific rows and columns \n",
            "              2 - exit\n",
            "1\n",
            " to ente range of rows or columns like [1] or [1,2,3,4,5] or \n",
            " [*rage(1,10,1)]=[1,2,3,4,5,6,7,8,9,10] and \n",
            " columns but column we should choose indexes \n",
            " \n",
            " the range of rows from 0 to 300000 \n",
            "\n",
            " the range of columns as show in dict{0: 'Unnamed: 0', 1: 'Start Time', 2: 'End Time', 3: 'Trip Duration', 4: 'Start Station', 5: 'End Station', 6: 'User Type', 7: 'month', 8: 'day', 9: 'hour'}\n",
            "if you want to stop write in rows string or columns\n",
            "rows : [*range(1,20,1)]\n",
            "columns : [*range(0,9)]\n",
            "    Unnamed: 0          Start Time  ...     month       day\n",
            "1       482740 2017-03-11 10:40:00  ...     March  Saturday\n",
            "2      1330037 2017-05-30 01:02:59  ...       May   Tuesday\n",
            "3       665458 2017-04-02 07:48:35  ...     April    Sunday\n",
            "4      1481135 2017-06-10 08:36:28  ...      June  Saturday\n",
            "5      1148202 2017-05-14 07:18:18  ...       May    Sunday\n",
            "6      1594275 2017-06-19 08:41:43  ...      June    Monday\n",
            "7      1601832 2017-06-20 05:54:42  ...      June   Tuesday\n",
            "8       574182 2017-03-24 20:37:00  ...     March    Friday\n",
            "9       327058 2017-02-20 21:12:00  ...  February    Monday\n",
            "10      854729 2017-04-17 02:50:51  ...     April    Monday\n",
            "11      721887 2017-04-08 01:12:48  ...     April  Saturday\n",
            "12      143181 2017-01-26 20:01:00  ...   January  Thursday\n",
            "13       26953 2017-01-06 17:36:00  ...   January    Friday\n",
            "14     1308542 2017-05-28 03:50:26  ...       May    Sunday\n",
            "15     1592744 2017-06-19 07:46:35  ...      June    Monday\n",
            "16     1139713 2017-05-13 11:29:16  ...       May  Saturday\n",
            "17     1478516 2017-06-10 06:04:41  ...      June  Saturday\n",
            "18      679837 2017-04-03 10:22:19  ...     April    Monday\n",
            "19     1392498 2017-06-03 11:42:54  ...      June  Saturday\n",
            "\n",
            "[19 rows x 9 columns]\n",
            "1 - do you want to show some specific rows and columns \n",
            "              2 - exit\n",
            "2\n",
            "\n",
            "Would you like to restart? Enter yes or no.\n",
            "no\n"
          ]
        }
      ]
    },
    {
      "cell_type": "code",
      "metadata": {
        "id": "HPm5jHTVnwpM"
      },
      "source": [
        ""
      ],
      "execution_count": null,
      "outputs": []
    }
  ]
}